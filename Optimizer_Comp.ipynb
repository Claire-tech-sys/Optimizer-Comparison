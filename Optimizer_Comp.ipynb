{
 "cells": [
  {
   "cell_type": "markdown",
   "id": "7c9082c4",
   "metadata": {},
   "source": [
    "# Performance of Different Optimizers on MNIST"
   ]
  },
  {
   "cell_type": "code",
   "execution_count": 2,
   "id": "7d0567bb",
   "metadata": {},
   "outputs": [],
   "source": [
    "import torch\n",
    "import torch.nn as nn\n",
    "import torch.nn.functional as F\n",
    "import torch.optim as optim\n",
    "import torchvision\n",
    "import torchvision.transforms as transforms\n",
    "from torch.utils.data import DataLoader\n",
    "import pandas as pd\n",
    "import numpy as np\n",
    "import matplotlib.pyplot as plt"
   ]
  },
  {
   "cell_type": "code",
   "execution_count": 3,
   "id": "9b522179",
   "metadata": {},
   "outputs": [
    {
     "name": "stdout",
     "output_type": "stream",
     "text": [
      "Downloading http://yann.lecun.com/exdb/mnist/train-images-idx3-ubyte.gz\n",
      "Failed to download (trying next):\n",
      "HTTP Error 404: Not Found\n",
      "\n",
      "Downloading https://ossci-datasets.s3.amazonaws.com/mnist/train-images-idx3-ubyte.gz\n",
      "Downloading https://ossci-datasets.s3.amazonaws.com/mnist/train-images-idx3-ubyte.gz to ./data\\MNIST\\raw\\train-images-idx3-ubyte.gz\n"
     ]
    },
    {
     "name": "stderr",
     "output_type": "stream",
     "text": [
      "100%|████████████████████████████████████████████████████████████████████| 9912422/9912422 [00:22<00:00, 450293.30it/s]\n"
     ]
    },
    {
     "name": "stdout",
     "output_type": "stream",
     "text": [
      "Extracting ./data\\MNIST\\raw\\train-images-idx3-ubyte.gz to ./data\\MNIST\\raw\n",
      "\n",
      "Downloading http://yann.lecun.com/exdb/mnist/train-labels-idx1-ubyte.gz\n",
      "Failed to download (trying next):\n",
      "HTTP Error 404: Not Found\n",
      "\n",
      "Downloading https://ossci-datasets.s3.amazonaws.com/mnist/train-labels-idx1-ubyte.gz\n",
      "Downloading https://ossci-datasets.s3.amazonaws.com/mnist/train-labels-idx1-ubyte.gz to ./data\\MNIST\\raw\\train-labels-idx1-ubyte.gz\n"
     ]
    },
    {
     "name": "stderr",
     "output_type": "stream",
     "text": [
      "100%|████████████████████████████████████████████████████████████████████████| 28881/28881 [00:00<00:00, 122787.68it/s]\n"
     ]
    },
    {
     "name": "stdout",
     "output_type": "stream",
     "text": [
      "Extracting ./data\\MNIST\\raw\\train-labels-idx1-ubyte.gz to ./data\\MNIST\\raw\n",
      "\n",
      "Downloading http://yann.lecun.com/exdb/mnist/t10k-images-idx3-ubyte.gz\n",
      "Failed to download (trying next):\n",
      "HTTP Error 404: Not Found\n",
      "\n",
      "Downloading https://ossci-datasets.s3.amazonaws.com/mnist/t10k-images-idx3-ubyte.gz\n",
      "Downloading https://ossci-datasets.s3.amazonaws.com/mnist/t10k-images-idx3-ubyte.gz to ./data\\MNIST\\raw\\t10k-images-idx3-ubyte.gz\n"
     ]
    },
    {
     "name": "stderr",
     "output_type": "stream",
     "text": [
      "100%|████████████████████████████████████████████████████████████████████| 1648877/1648877 [00:11<00:00, 149566.47it/s]\n"
     ]
    },
    {
     "name": "stdout",
     "output_type": "stream",
     "text": [
      "Extracting ./data\\MNIST\\raw\\t10k-images-idx3-ubyte.gz to ./data\\MNIST\\raw\n",
      "\n",
      "Downloading http://yann.lecun.com/exdb/mnist/t10k-labels-idx1-ubyte.gz\n",
      "Failed to download (trying next):\n",
      "HTTP Error 404: Not Found\n",
      "\n",
      "Downloading https://ossci-datasets.s3.amazonaws.com/mnist/t10k-labels-idx1-ubyte.gz\n",
      "Downloading https://ossci-datasets.s3.amazonaws.com/mnist/t10k-labels-idx1-ubyte.gz to ./data\\MNIST\\raw\\t10k-labels-idx1-ubyte.gz\n"
     ]
    },
    {
     "name": "stderr",
     "output_type": "stream",
     "text": [
      "100%|██████████████████████████████████████████████████████████████████████████████████████| 4542/4542 [00:00<?, ?it/s]"
     ]
    },
    {
     "name": "stdout",
     "output_type": "stream",
     "text": [
      "Extracting ./data\\MNIST\\raw\\t10k-labels-idx1-ubyte.gz to ./data\\MNIST\\raw\n",
      "\n"
     ]
    },
    {
     "name": "stderr",
     "output_type": "stream",
     "text": [
      "\n"
     ]
    }
   ],
   "source": [
    "# 定义图像预处理\n",
    "transform = transforms.Compose([\n",
    "    transforms.ToTensor(), \n",
    "    transforms.Normalize((0.1307,), (0.3081,))  # MNIST 的均值和标准差\n",
    "])\n",
    "\n",
    "# 下载训练和测试集\n",
    "train_dataset = torchvision.datasets.MNIST(root='./data', train=True, download=True, transform=transform)\n",
    "test_dataset = torchvision.datasets.MNIST(root='./data', train=False, download=True, transform=transform)\n",
    "\n",
    "train_loader = torch.utils.data.DataLoader(dataset=train_dataset, batch_size=64, shuffle=True)\n",
    "test_loader = torch.utils.data.DataLoader(dataset=test_dataset, batch_size=64, shuffle=False)"
   ]
  },
  {
   "cell_type": "code",
   "execution_count": 8,
   "id": "1d3c686c",
   "metadata": {},
   "outputs": [
    {
     "data": {
      "image/png": "[encoded data removed]",
      "text/plain": [
       "<Figure size 640x480 with 12 Axes>"
      ]
     },
     "metadata": {},
     "output_type": "display_data"
    }
   ],
   "source": [
    "# 查看数据集中的前12张图片\n",
    "fig = plt.figure()\n",
    "for i in range(12):\n",
    "    plt.subplot(3, 4, i+1)\n",
    "    plt.tight_layout()\n",
    "    plt.imshow(train_dataset.data[i], cmap='gray', interpolation='none')\n",
    "    plt.title(\"Labels: {}\".format(train_dataset.targets[i]))\n",
    "    plt.xticks([])\n",
    "    plt.yticks([])\n",
    "plt.show()"
   ]
  },
  {
   "cell_type": "code",
   "execution_count": 14,
   "id": "d5776f74",
   "metadata": {},
   "outputs": [],
   "source": [
    "# 创建一个简单的网络，只包含两层全连接层\n",
    "class Net(nn.Module):\n",
    "    def __init__(self):\n",
    "        super(Net, self).__init__()\n",
    "        self.fc1 = nn.Linear(784, 128)\n",
    "        self.relu = nn.ReLU()\n",
    "        self.fc2 = nn.Linear(128, 10)\n",
    "\n",
    "    def forward(self, x):\n",
    "        x = x.view(-1, 28 * 28)  # 展平成向量\n",
    "        x = F.relu(self.fc1(x))\n",
    "        x = self.fc2(x)\n",
    "        return x"
   ]
  },
  {
   "cell_type": "code",
   "execution_count": 15,
   "id": "818d3409",
   "metadata": {},
   "outputs": [],
   "source": [
    "def train(model, optimizer, criterion, epochs=5):\n",
    "    model.train()\n",
    "    for epoch in range(epochs):\n",
    "        total_loss = 0\n",
    "        for images, labels in train_loader:\n",
    "            images, labels = images.to(device), labels.to(device)\n",
    "            outputs = model(images)\n",
    "            loss = criterion(outputs, labels)\n",
    "            optimizer.zero_grad()\n",
    "            loss.backward()\n",
    "            optimizer.step()\n",
    "            total_loss += loss.item()\n",
    "        print(f\"Epoch [{epoch+1}/{epochs}], Loss: {total_loss / len(train_loader):.4f}\")\n",
    "\n",
    "def evaluate(model):\n",
    "    model.eval()\n",
    "    correct = 0\n",
    "    total = 0\n",
    "    with torch.no_grad():\n",
    "        for images, labels in test_loader:\n",
    "            images, labels = images.to(device), labels.to(device)\n",
    "            outputs = model(images)\n",
    "            _, predicted = torch.max(outputs.data, 1)\n",
    "            total += labels.size(0)\n",
    "            correct += (predicted == labels).sum().item()\n",
    "    print(f\"Test Accuracy: {100 * correct / total:.2f}%\")"
   ]
  },
  {
   "cell_type": "code",
   "execution_count": 16,
   "id": "2ea51002",
   "metadata": {},
   "outputs": [
    {
     "name": "stdout",
     "output_type": "stream",
     "text": [
      "Epoch [1/20], Loss: 0.2663\n",
      "Epoch [2/20], Loss: 0.1134\n",
      "Epoch [3/20], Loss: 0.0797\n",
      "Epoch [4/20], Loss: 0.0602\n",
      "Epoch [5/20], Loss: 0.0470\n",
      "Epoch [6/20], Loss: 0.0390\n",
      "Epoch [7/20], Loss: 0.0324\n",
      "Epoch [8/20], Loss: 0.0265\n",
      "Epoch [9/20], Loss: 0.0247\n",
      "Epoch [10/20], Loss: 0.0196\n",
      "Epoch [11/20], Loss: 0.0176\n",
      "Epoch [12/20], Loss: 0.0154\n",
      "Epoch [13/20], Loss: 0.0149\n",
      "Epoch [14/20], Loss: 0.0129\n",
      "Epoch [15/20], Loss: 0.0129\n",
      "Epoch [16/20], Loss: 0.0115\n",
      "Epoch [17/20], Loss: 0.0112\n",
      "Epoch [18/20], Loss: 0.0088\n",
      "Epoch [19/20], Loss: 0.0085\n",
      "Epoch [20/20], Loss: 0.0107\n",
      "Test Accuracy: 97.70%\n"
     ]
    }
   ],
   "source": [
    "# Optimizer为Adam,lr=0.001\n",
    "device = torch.device(\"cuda\" if torch.cuda.is_available() else \"cpu\")\n",
    "\n",
    "model_adam = Net().to(device)\n",
    "optimizer = optim.Adam(model_adam.parameters(), lr=0.001)\n",
    "criterion = nn.CrossEntropyLoss()\n",
    "\n",
    "train(model_adam, optimizer, criterion, epochs=20)\n",
    "evaluate(model_adam)"
   ]
  },
  {
   "cell_type": "code",
   "execution_count": 17,
   "id": "ead8156b",
   "metadata": {},
   "outputs": [
    {
     "name": "stdout",
     "output_type": "stream",
     "text": [
      "Epoch [1/20], Loss: 1.5929\n",
      "Epoch [2/20], Loss: 0.7950\n",
      "Epoch [3/20], Loss: 0.5705\n",
      "Epoch [4/20], Loss: 0.4792\n",
      "Epoch [5/20], Loss: 0.4292\n",
      "Epoch [6/20], Loss: 0.3975\n",
      "Epoch [7/20], Loss: 0.3750\n",
      "Epoch [8/20], Loss: 0.3579\n",
      "Epoch [9/20], Loss: 0.3445\n",
      "Epoch [10/20], Loss: 0.3331\n",
      "Epoch [11/20], Loss: 0.3234\n",
      "Epoch [12/20], Loss: 0.3151\n",
      "Epoch [13/20], Loss: 0.3076\n",
      "Epoch [14/20], Loss: 0.3010\n",
      "Epoch [15/20], Loss: 0.2945\n",
      "Epoch [16/20], Loss: 0.2887\n",
      "Epoch [17/20], Loss: 0.2835\n",
      "Epoch [18/20], Loss: 0.2783\n",
      "Epoch [19/20], Loss: 0.2735\n",
      "Epoch [20/20], Loss: 0.2690\n",
      "Test Accuracy: 92.59%\n"
     ]
    }
   ],
   "source": [
    "# optimizer 为sgd, lr=0.001\n",
    "model_sgd = Net().to(device)\n",
    "optimizer = optim.SGD(model_sgd.parameters(), lr=0.001)\n",
    "\n",
    "train(model_sgd, optimizer, criterion, epochs=20)\n",
    "evaluate(model_sgd)"
   ]
  },
  {
   "cell_type": "code",
   "execution_count": 18,
   "id": "31ef65e5",
   "metadata": {},
   "outputs": [
    {
     "name": "stdout",
     "output_type": "stream",
     "text": [
      "Epoch [1/20], Loss: 0.5126\n",
      "Epoch [2/20], Loss: 0.3464\n",
      "Epoch [3/20], Loss: 0.3160\n",
      "Epoch [4/20], Loss: 0.2988\n",
      "Epoch [5/20], Loss: 0.2868\n",
      "Epoch [6/20], Loss: 0.2773\n",
      "Epoch [7/20], Loss: 0.2696\n",
      "Epoch [8/20], Loss: 0.2627\n",
      "Epoch [9/20], Loss: 0.2568\n",
      "Epoch [10/20], Loss: 0.2516\n",
      "Epoch [11/20], Loss: 0.2468\n",
      "Epoch [12/20], Loss: 0.2424\n",
      "Epoch [13/20], Loss: 0.2386\n",
      "Epoch [14/20], Loss: 0.2347\n",
      "Epoch [15/20], Loss: 0.2311\n",
      "Epoch [16/20], Loss: 0.2277\n",
      "Epoch [17/20], Loss: 0.2247\n",
      "Epoch [18/20], Loss: 0.2216\n",
      "Epoch [19/20], Loss: 0.2190\n",
      "Epoch [20/20], Loss: 0.2163\n",
      "Test Accuracy: 93.98%\n"
     ]
    }
   ],
   "source": [
    "# optimizer为adagrad， lr=0.001\n",
    "model_adagrad = Net().to(device)\n",
    "optimizer = optim.Adagrad(model_adagrad.parameters(), lr=0.001)\n",
    "\n",
    "train(model_adagrad, optimizer, criterion, epochs=20)\n",
    "evaluate(model_adagrad)"
   ]
  },
  {
   "cell_type": "code",
   "execution_count": 20,
   "id": "dcaef4d5",
   "metadata": {},
   "outputs": [
    {
     "name": "stdout",
     "output_type": "stream",
     "text": [
      "[0.2663, 0.1134, 0.0797, 0.0602, 0.047, 0.039, 0.0324, 0.0265, 0.0247, 0.0196, 0.0176, 0.0154, 0.0149, 0.0129, 0.0129, 0.0115, 0.0112, 0.0088, 0.0085, 0.0107]\n"
     ]
    }
   ],
   "source": [
    "# 我应该在训练过程中记录loss的但我忘了，使用re直接从输出中读取吧\n",
    "import re\n",
    "\n",
    "adam_loss_str = '''\n",
    "Epoch [1/20], Loss: 0.2663\n",
    "Epoch [2/20], Loss: 0.1134\n",
    "Epoch [3/20], Loss: 0.0797\n",
    "Epoch [4/20], Loss: 0.0602\n",
    "Epoch [5/20], Loss: 0.0470\n",
    "Epoch [6/20], Loss: 0.0390\n",
    "Epoch [7/20], Loss: 0.0324\n",
    "Epoch [8/20], Loss: 0.0265\n",
    "Epoch [9/20], Loss: 0.0247\n",
    "Epoch [10/20], Loss: 0.0196\n",
    "Epoch [11/20], Loss: 0.0176\n",
    "Epoch [12/20], Loss: 0.0154\n",
    "Epoch [13/20], Loss: 0.0149\n",
    "Epoch [14/20], Loss: 0.0129\n",
    "Epoch [15/20], Loss: 0.0129\n",
    "Epoch [16/20], Loss: 0.0115\n",
    "Epoch [17/20], Loss: 0.0112\n",
    "Epoch [18/20], Loss: 0.0088\n",
    "Epoch [19/20], Loss: 0.0085\n",
    "Epoch [20/20], Loss: 0.0107\n",
    "''' \n",
    "adam_loss = [float(x) for x in re.findall(r\"Loss: (\\d+\\.\\d+)\", adam_loss_str)]\n",
    "print(adam_loss)"
   ]
  },
  {
   "cell_type": "code",
   "execution_count": 21,
   "id": "71fb0f99",
   "metadata": {},
   "outputs": [
    {
     "name": "stdout",
     "output_type": "stream",
     "text": [
      "[1.5929, 0.795, 0.5705, 0.4792, 0.4292, 0.3975, 0.375, 0.3579, 0.3445, 0.3331, 0.3234, 0.3151, 0.3076, 0.301, 0.2945, 0.2887, 0.2835, 0.2783, 0.2735, 0.269]\n"
     ]
    }
   ],
   "source": [
    "sgd_loss_str = '''\n",
    "Epoch [1/20], Loss: 1.5929\n",
    "Epoch [2/20], Loss: 0.7950\n",
    "Epoch [3/20], Loss: 0.5705\n",
    "Epoch [4/20], Loss: 0.4792\n",
    "Epoch [5/20], Loss: 0.4292\n",
    "Epoch [6/20], Loss: 0.3975\n",
    "Epoch [7/20], Loss: 0.3750\n",
    "Epoch [8/20], Loss: 0.3579\n",
    "Epoch [9/20], Loss: 0.3445\n",
    "Epoch [10/20], Loss: 0.3331\n",
    "Epoch [11/20], Loss: 0.3234\n",
    "Epoch [12/20], Loss: 0.3151\n",
    "Epoch [13/20], Loss: 0.3076\n",
    "Epoch [14/20], Loss: 0.3010\n",
    "Epoch [15/20], Loss: 0.2945\n",
    "Epoch [16/20], Loss: 0.2887\n",
    "Epoch [17/20], Loss: 0.2835\n",
    "Epoch [18/20], Loss: 0.2783\n",
    "Epoch [19/20], Loss: 0.2735\n",
    "Epoch [20/20], Loss: 0.2690\n",
    "'''\n",
    "sgd_loss = [float(x) for x in re.findall(r\"Loss: (\\d+\\.\\d+)\", sgd_loss_str)]\n",
    "print(sgd_loss)"
   ]
  },
  {
   "cell_type": "code",
   "execution_count": 23,
   "id": "8ec6317e",
   "metadata": {},
   "outputs": [
    {
     "name": "stdout",
     "output_type": "stream",
     "text": [
      "[0.5126, 0.3464, 0.316, 0.2988, 0.2868, 0.2773, 0.2696, 0.2627, 0.2568, 0.2516, 0.2468, 0.2424, 0.2386, 0.2347, 0.2311, 0.2277, 0.2247, 0.2216, 0.219, 0.2163]\n"
     ]
    }
   ],
   "source": [
    "adagrad_loss_str = '''\n",
    "Epoch [1/20], Loss: 0.5126\n",
    "Epoch [2/20], Loss: 0.3464\n",
    "Epoch [3/20], Loss: 0.3160\n",
    "Epoch [4/20], Loss: 0.2988\n",
    "Epoch [5/20], Loss: 0.2868\n",
    "Epoch [6/20], Loss: 0.2773\n",
    "Epoch [7/20], Loss: 0.2696\n",
    "Epoch [8/20], Loss: 0.2627\n",
    "Epoch [9/20], Loss: 0.2568\n",
    "Epoch [10/20], Loss: 0.2516\n",
    "Epoch [11/20], Loss: 0.2468\n",
    "Epoch [12/20], Loss: 0.2424\n",
    "Epoch [13/20], Loss: 0.2386\n",
    "Epoch [14/20], Loss: 0.2347\n",
    "Epoch [15/20], Loss: 0.2311\n",
    "Epoch [16/20], Loss: 0.2277\n",
    "Epoch [17/20], Loss: 0.2247\n",
    "Epoch [18/20], Loss: 0.2216\n",
    "Epoch [19/20], Loss: 0.2190\n",
    "Epoch [20/20], Loss: 0.2163\n",
    "'''\n",
    "adagrad_loss = [float(x) for x in re.findall(r\"Loss: (\\d+\\.\\d+)\", adagrad_loss_str)]\n",
    "print(adagrad_loss)"
   ]
  },
  {
   "cell_type": "code",
   "execution_count": 28,
   "id": "ef0055d6",
   "metadata": {},
   "outputs": [
    {
     "data": {
      "image/png": "[encoded data removed]",
      "text/plain": [
       "<Figure size 1000x600 with 1 Axes>"
      ]
     },
     "metadata": {},
     "output_type": "display_data"
    }
   ],
   "source": [
    "epochs = list(range(1, len(adam_loss) + 1))\n",
    "\n",
    "plt.figure(figsize=(10, 6))\n",
    "plt.plot(epochs, adam_loss, label=\"Adam\", marker='o')\n",
    "plt.plot(epochs, sgd_loss, label=\"SGD\", marker='s')\n",
    "plt.plot(epochs, adagrad_loss, label=\"Adagrad\", marker='^')\n",
    "\n",
    "plt.xlabel(\"Epoch\")\n",
    "plt.ylabel(\"Loss\")\n",
    "plt.title(\"Optimizer Loss Comparison on MNIST\")\n",
    "plt.legend()\n",
    "plt.grid(True)\n",
    "\n",
    "plt.xticks(epochs)\n",
    "\n",
    "plt.tight_layout()\n",
    "plt.savefig(\"optimizer_loss_comparison.png\", dpi=300)\n",
    "plt.show()"
   ]
  },
  {
   "cell_type": "code",
   "execution_count": null,
   "id": "b3bb7794",
   "metadata": {},
   "outputs": [],
   "source": []
  }
 ],
 "metadata": {
  "kernelspec": {
   "display_name": "pytorch",
   "language": "python",
   "name": "pytorch"
  },
  "language_info": {
   "codemirror_mode": {
    "name": "ipython",
    "version": 3
   },
   "file_extension": ".py",
   "mimetype": "text/x-python",
   "name": "python",
   "nbconvert_exporter": "python",
   "pygments_lexer": "ipython3",
   "version": "3.9.19"
  }
 },
 "nbformat": 4,
 "nbformat_minor": 5
}
